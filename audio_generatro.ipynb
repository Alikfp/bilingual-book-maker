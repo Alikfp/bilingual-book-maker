{
 "cells": [
  {
   "cell_type": "code",
   "execution_count": 7,
   "metadata": {},
   "outputs": [
    {
     "name": "stdout",
     "output_type": "stream",
     "text": [
      "Saved: audio/sentence_1.mp3\n",
      "Saved: audio/sentence_2.mp3\n",
      "Saved: audio/sentence_3.mp3\n",
      "Saved: audio/sentence_4.mp3\n",
      "Saved: audio/sentence_5.mp3\n",
      "Saved: audio/sentence_6.mp3\n",
      "Saved: audio/sentence_7.mp3\n",
      "Saved: audio/sentence_8.mp3\n",
      "Saved: audio/sentence_9.mp3\n",
      "Saved: audio/sentence_10.mp3\n",
      "Saved: audio/sentence_11.mp3\n",
      "Saved: audio/sentence_12.mp3\n",
      "Saved: audio/sentence_13.mp3\n",
      "Saved: audio/sentence_14.mp3\n",
      "Saved: audio/sentence_15.mp3\n",
      "Saved: audio/sentence_16.mp3\n",
      "Saved: audio/sentence_17.mp3\n",
      "Saved: audio/sentence_18.mp3\n",
      "Saved: audio/sentence_19.mp3\n",
      "Saved: audio/sentence_20.mp3\n",
      "Saved: audio/sentence_21.mp3\n",
      "Saved: audio/sentence_22.mp3\n",
      "Saved: audio/sentence_23.mp3\n",
      "Saved: audio/sentence_24.mp3\n",
      "Saved: audio/sentence_25.mp3\n",
      "Saved: audio/sentence_26.mp3\n",
      "Saved: audio/sentence_27.mp3\n",
      "Saved: audio/sentence_28.mp3\n",
      "Saved: audio/sentence_29.mp3\n",
      "Saved: audio/sentence_30.mp3\n",
      "Saved: audio/sentence_31.mp3\n",
      "Saved: audio/sentence_32.mp3\n",
      "Saved: audio/sentence_33.mp3\n",
      "Saved: audio/sentence_34.mp3\n",
      "Saved: audio/sentence_35.mp3\n",
      "Saved: audio/sentence_36.mp3\n",
      "Saved: audio/sentence_37.mp3\n",
      "Saved: audio/sentence_38.mp3\n",
      "Saved: audio/sentence_39.mp3\n",
      "Saved: audio/sentence_40.mp3\n",
      "Saved: audio/sentence_41.mp3\n",
      "Saved: audio/sentence_42.mp3\n",
      "Saved: audio/sentence_43.mp3\n",
      "Saved: audio/sentence_44.mp3\n",
      "Saved: audio/sentence_45.mp3\n",
      "Saved: audio/sentence_46.mp3\n",
      "Saved: audio/sentence_47.mp3\n",
      "Saved: audio/sentence_48.mp3\n",
      "Saved: audio/sentence_49.mp3\n",
      "Saved: audio/sentence_50.mp3\n",
      "Saved: audio/sentence_51.mp3\n",
      "Saved: audio/sentence_52.mp3\n",
      "Saved: audio/sentence_53.mp3\n",
      "Saved: audio/sentence_54.mp3\n",
      "Saved: audio/sentence_55.mp3\n",
      "Saved: audio/sentence_56.mp3\n",
      "Saved: audio/sentence_57.mp3\n",
      "Saved: audio/sentence_58.mp3\n",
      "Saved: audio/sentence_59.mp3\n",
      "Saved: audio/sentence_60.mp3\n"
     ]
    }
   ],
   "source": [
    "import json\n",
    "import os\n",
    "from gtts import gTTS\n",
    "\n",
    "# Load the French sentences from the JSON file\n",
    "with open('french_sentences.json', 'r', encoding='utf-8') as file:\n",
    "    french_sentences = json.load(file)\n",
    "\n",
    "# Create the 'audio' directory if it doesn't exist\n",
    "if not os.path.exists('audio'):\n",
    "    os.makedirs('audio')\n",
    "\n",
    "# Function to generate audio files\n",
    "def generate_audio(sentence_number, text):\n",
    "    filename = f\"audio/sentence_{sentence_number}.mp3\"\n",
    "    tts = gTTS(text=text, lang='fr')\n",
    "    tts.save(filename)\n",
    "    print(f\"Saved: {filename}\")\n",
    "\n",
    "# Loop through the sentences and create audio files\n",
    "for sentence_number, text in french_sentences.items():\n",
    "    generate_audio(sentence_number, text)\n"
   ]
  },
  {
   "cell_type": "code",
   "execution_count": null,
   "metadata": {},
   "outputs": [],
   "source": []
  }
 ],
 "metadata": {
  "kernelspec": {
   "display_name": "Python 3",
   "language": "python",
   "name": "python3"
  },
  "language_info": {
   "codemirror_mode": {
    "name": "ipython",
    "version": 3
   },
   "file_extension": ".py",
   "mimetype": "text/x-python",
   "name": "python",
   "nbconvert_exporter": "python",
   "pygments_lexer": "ipython3",
   "version": "3.11.4"
  }
 },
 "nbformat": 4,
 "nbformat_minor": 2
}
